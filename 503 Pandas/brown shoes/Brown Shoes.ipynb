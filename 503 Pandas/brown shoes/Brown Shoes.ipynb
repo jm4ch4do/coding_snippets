{
 "cells": [
  {
   "cell_type": "markdown",
   "id": "eb0ef9e2",
   "metadata": {},
   "source": [
    "#### Change Working Directory"
   ]
  },
  {
   "cell_type": "code",
   "execution_count": 420,
   "id": "42777fb1",
   "metadata": {
    "scrolled": true
   },
   "outputs": [],
   "source": [
    "path = 'C:\\\\zzzzdownload\\\\'\n",
    "os.chdir(path)\n",
    "#os.getcwd()"
   ]
  },
  {
   "cell_type": "markdown",
   "id": "ea596926",
   "metadata": {},
   "source": [
    "#### Load File \n",
    "The Total of Order line items (Transactions) is 6727"
   ]
  },
  {
   "cell_type": "code",
   "execution_count": 153,
   "id": "2c6bf19c",
   "metadata": {},
   "outputs": [],
   "source": [
    "import pandas as pd\n",
    "df = pd.read_csv('interview_sample_data.csv')\n",
    "total_items = len(df)\n",
    "#df"
   ]
  },
  {
   "cell_type": "markdown",
   "id": "c10f1c86",
   "metadata": {},
   "source": [
    "#### Add column for original_order_id\n",
    "Original_order_id will be filled with the order_id if type is sale. For type return it will get the parent_order_id if the return is valid. \n",
    "\n",
    "The invalid returns are orphans whose parent_item is not in the dataframe and therefore it's impossible to get their parent's order_id. Orphans will get a -1 in the original_order_id column. "
   ]
  },
  {
   "cell_type": "code",
   "execution_count": 194,
   "id": "e7dd2a37",
   "metadata": {},
   "outputs": [],
   "source": [
    "new_empty_column = [0] * total_items\n",
    "original_order_id = new_empty_column"
   ]
  },
  {
   "cell_type": "code",
   "execution_count": 201,
   "id": "92ae3753",
   "metadata": {},
   "outputs": [],
   "source": [
    "for index, row in df.iterrows():\n",
    "    \n",
    "    # if item is type sale use order_id\n",
    "    if row['quantity'] == 1:\n",
    "        value = row['order_id']\n",
    "    \n",
    "    # if item is type return\n",
    "    else:\n",
    "        \n",
    "        # look for the parent line\n",
    "        parent_line = df.loc[df['line_id'] == row['parent_line_id'] ]\n",
    "        \n",
    "        # parent line is not available in the dataframe -> set 0\n",
    "        if(len(parent_line)) == 0:\n",
    "            value = -1\n",
    "        \n",
    "        # use line if available\n",
    "        else:\n",
    "            value = parent_line['order_id'].iloc[0]\n",
    "    \n",
    "    original_order_id[index] = value\n",
    "\n",
    "df['original_order_id'] = original_order_id\n",
    "# original_order_id\n",
    "#df\n"
   ]
  },
  {
   "cell_type": "markdown",
   "id": "e9efbf99",
   "metadata": {},
   "source": [
    "#### Remove Orphans\n",
    "The 35 orphans will be placed in a separate dataframe and the valid rows will be also stored in a valid dataframe for continuing the analysis."
   ]
  },
  {
   "cell_type": "code",
   "execution_count": 204,
   "id": "71a4eed1",
   "metadata": {},
   "outputs": [],
   "source": [
    "df_orphans = df.loc[df['original_order_id'] == -1 ]\n",
    "df_valid = df.loc[df['original_order_id'] != -1 ]\n",
    "#len(df_orphans)\n",
    "#len(df_valid)"
   ]
  },
  {
   "cell_type": "markdown",
   "id": "b5004241",
   "metadata": {},
   "source": [
    "#### Total Orders\n",
    "There are 5470 total orders, every order has between 8 and 1 line item.\n",
    "After reving the orphan records, there are 5447 remaining orders."
   ]
  },
  {
   "cell_type": "code",
   "execution_count": 217,
   "id": "eb85b14c",
   "metadata": {},
   "outputs": [],
   "source": [
    "all_orders = df.order_id\n",
    "valid_orders = df_valid.order_id\n",
    "#len(all_orders.value_counts())\n",
    "#len(valid_orders.value_counts())\n"
   ]
  },
  {
   "cell_type": "markdown",
   "id": "4c501c17",
   "metadata": {},
   "source": [
    "#### Find Order Type"
   ]
  },
  {
   "cell_type": "code",
   "execution_count": 244,
   "id": "5a7339ee",
   "metadata": {},
   "outputs": [],
   "source": [
    "order_ids = valid_orders.tolist()\n",
    "order_types = {}\n",
    "order_types_by_original = {}\n",
    "\n",
    "for order_id in order_ids:\n",
    "    \n",
    "    # get related items\n",
    "    items = df_valid.loc[df_valid['order_id'] == order_id ]\n",
    "    items_by_original = df_valid.loc[df_valid['original_order_id'] == order_id ]\n",
    "    \n",
    "    # ----- FOR ORDERS\n",
    "    # count types of items\n",
    "    total_sale = 0\n",
    "    total_return = 0\n",
    "    for index, row in items.iterrows():\n",
    "        if row.quantity == 1:\n",
    "            total_sale += 1\n",
    "        else:\n",
    "            total_return +=1\n",
    "    \n",
    "    # decide the order's type base of the item's type\n",
    "    order_type = 1  # most are sales\n",
    "    if total_sale > 0 and total_return > 0:\n",
    "        order_type = 3  # exchange\n",
    "    elif total_sale == 0 and total_return > 1:\n",
    "        order_type = 2 # returns\n",
    "        \n",
    "    # save type to dict\n",
    "    order_types[row['order_id']] = order_type\n",
    "    \n",
    "    # ----- FOR ORIGINAL ORDERS\n",
    "    # count types of items\n",
    "    total_sale = 0\n",
    "    total_return = 0\n",
    "    for index, row in items_by_original.iterrows():\n",
    "        if row.quantity == 1:\n",
    "            total_sale += 1\n",
    "        else:\n",
    "            total_return +=1\n",
    "    \n",
    "    # decide the order's type base of the item's type\n",
    "    order_type = 1  # most are sales\n",
    "    if total_sale > 0 and total_return > 0:\n",
    "        order_type = 3  # exchange\n",
    "    elif total_sale == 0 and total_return > 1:\n",
    "        order_type = 2 # returns\n",
    "        \n",
    "    # save type to dict\n",
    "    order_types_by_original[row['order_id']] = order_type\n",
    "\n",
    "        \n",
    "    "
   ]
  },
  {
   "cell_type": "code",
   "execution_count": 250,
   "id": "c62d440f",
   "metadata": {},
   "outputs": [],
   "source": [
    "# move result from dict to list\n",
    "order_types_list = []\n",
    "order_types_original_list = []\n",
    "\n",
    "for index, row in df_valid.iterrows():\n",
    "    \n",
    "    # get type for current item\n",
    "    order_type = order_types.get(row['order_id'])\n",
    "    order_type_original = order_types_by_original.get(row['original_order_id'])\n",
    "    \n",
    "    # save to list\n",
    "    order_types_list.append(order_type)\n",
    "    order_types_original_list.append(order_type_original)\n"
   ]
  },
  {
   "cell_type": "code",
   "execution_count": 280,
   "id": "f6fb0b22",
   "metadata": {},
   "outputs": [
    {
     "data": {
      "text/plain": [
       "6385"
      ]
     },
     "execution_count": 280,
     "metadata": {},
     "output_type": "execute_result"
    }
   ],
   "source": [
    "# save to dataframe\n",
    "df_valid_copy = df_valid.copy()\n",
    "df_valid_copy['order_type'] = order_types_list\n",
    "df_valid_copy['order_type_original'] = order_types_original_list\n",
    "\n",
    "\n",
    "len(df_valid_copy.loc[df_valid_copy['order_type_original'] == 1])"
   ]
  },
  {
   "cell_type": "markdown",
   "id": "1d54ddc0",
   "metadata": {},
   "source": [
    "# Final Results"
   ]
  },
  {
   "cell_type": "markdown",
   "id": "58a50070",
   "metadata": {},
   "source": [
    "#### Export Results"
   ]
  },
  {
   "cell_type": "code",
   "execution_count": 304,
   "id": "bcf509b4",
   "metadata": {},
   "outputs": [],
   "source": [
    "df_valid_copy.to_csv('results.csv')\n",
    "# df_valid_copy"
   ]
  },
  {
   "cell_type": "markdown",
   "id": "8bfb4acc",
   "metadata": {},
   "source": [
    "#### Total Count for order types\n",
    "According to the order of each item, there are a total of 6109 orders for sale, 43 orders for returns and 540 orders for exchange. The total of orders is 6692."
   ]
  },
  {
   "cell_type": "code",
   "execution_count": 305,
   "id": "141a4486",
   "metadata": {},
   "outputs": [],
   "source": [
    "sales = df_valid_copy.loc[df_valid_copy['order_type'] == 1]\n",
    "returns = df_valid_copy.loc[df_valid_copy['order_type'] == 2]\n",
    "exchange = df_valid_copy.loc[df_valid_copy['order_type'] == 3]\n",
    "# len(sales)\n",
    "# len(returns)\n",
    "# len(exchange)"
   ]
  },
  {
   "cell_type": "markdown",
   "id": "32ae6b18",
   "metadata": {},
   "source": [
    "#### Total Count for order types by original\n",
    "According to the original order, there are a total of 6385 orders for sale and 307 orders for exchange. There are 0 orders for returns because returns with no matching order where previously extracted as invalid orphan data (35 records). The total of orders is 6692."
   ]
  },
  {
   "cell_type": "code",
   "execution_count": 306,
   "id": "35d29b8f",
   "metadata": {},
   "outputs": [],
   "source": [
    "sales_o = df_valid_copy.loc[df_valid_copy['order_type_original'] == 1]\n",
    "returns_o = df_valid_copy.loc[df_valid_copy['order_type_original'] == 2]\n",
    "exchange_o = df_valid_copy.loc[df_valid_copy['order_type_original'] == 3]\n",
    "# len(sales_o)\n",
    "# len(returns_o)\n",
    "# len(exchange_o)"
   ]
  },
  {
   "cell_type": "markdown",
   "id": "ef1a8d02",
   "metadata": {},
   "source": [
    "#### Total Income\n",
    "The total income is 580,899.98"
   ]
  },
  {
   "cell_type": "code",
   "execution_count": 336,
   "id": "de7f5f55",
   "metadata": {},
   "outputs": [
    {
     "data": {
      "text/plain": [
       "sum    580899.98\n",
       "Name: line_total, dtype: float64"
      ]
     },
     "execution_count": 336,
     "metadata": {},
     "output_type": "execute_result"
    }
   ],
   "source": [
    "df_valid_copy['line_total'].agg(['sum'])"
   ]
  },
  {
   "cell_type": "markdown",
   "id": "1909a886",
   "metadata": {},
   "source": [
    "#### Total Sales and returns\n",
    "Total income from sales is 642,367.80 and total loss from returns is -61,467.82. The 9.56% of money the clients spend is lost due to returns.\n",
    "\n",
    "The total number of sales is 6,129 and the total number of returns is 563. The 9.185% of items are returned after purchase."
   ]
  },
  {
   "cell_type": "code",
   "execution_count": 338,
   "id": "c25fa0d9",
   "metadata": {},
   "outputs": [
    {
     "data": {
      "text/html": [
       "<div>\n",
       "<style scoped>\n",
       "    .dataframe tbody tr th:only-of-type {\n",
       "        vertical-align: middle;\n",
       "    }\n",
       "\n",
       "    .dataframe tbody tr th {\n",
       "        vertical-align: top;\n",
       "    }\n",
       "\n",
       "    .dataframe thead th {\n",
       "        text-align: right;\n",
       "    }\n",
       "</style>\n",
       "<table border=\"1\" class=\"dataframe\">\n",
       "  <thead>\n",
       "    <tr style=\"text-align: right;\">\n",
       "      <th></th>\n",
       "      <th>sum</th>\n",
       "      <th>count</th>\n",
       "    </tr>\n",
       "    <tr>\n",
       "      <th>quantity</th>\n",
       "      <th></th>\n",
       "      <th></th>\n",
       "    </tr>\n",
       "  </thead>\n",
       "  <tbody>\n",
       "    <tr>\n",
       "      <th>-1</th>\n",
       "      <td>-61467.82</td>\n",
       "      <td>563</td>\n",
       "    </tr>\n",
       "    <tr>\n",
       "      <th>1</th>\n",
       "      <td>642367.80</td>\n",
       "      <td>6129</td>\n",
       "    </tr>\n",
       "  </tbody>\n",
       "</table>\n",
       "</div>"
      ],
      "text/plain": [
       "                sum  count\n",
       "quantity                  \n",
       "-1        -61467.82    563\n",
       " 1        642367.80   6129"
      ]
     },
     "execution_count": 338,
     "metadata": {},
     "output_type": "execute_result"
    }
   ],
   "source": [
    "df_valid_copy.groupby('quantity').agg(['sum', 'count'])['line_total']"
   ]
  },
  {
   "cell_type": "code",
   "execution_count": null,
   "id": "137650c5",
   "metadata": {},
   "outputs": [],
   "source": []
  },
  {
   "cell_type": "markdown",
   "id": "47f18faf",
   "metadata": {},
   "source": [
    "#### Sales by stores\n",
    "Total number and total amount in sales by store."
   ]
  },
  {
   "cell_type": "code",
   "execution_count": 404,
   "id": "a9384b6d",
   "metadata": {},
   "outputs": [
    {
     "data": {
      "text/html": [
       "<div>\n",
       "<style scoped>\n",
       "    .dataframe tbody tr th:only-of-type {\n",
       "        vertical-align: middle;\n",
       "    }\n",
       "\n",
       "    .dataframe tbody tr th {\n",
       "        vertical-align: top;\n",
       "    }\n",
       "\n",
       "    .dataframe thead th {\n",
       "        text-align: right;\n",
       "    }\n",
       "</style>\n",
       "<table border=\"1\" class=\"dataframe\">\n",
       "  <thead>\n",
       "    <tr style=\"text-align: right;\">\n",
       "      <th></th>\n",
       "      <th>sum_sales</th>\n",
       "      <th>count_sales</th>\n",
       "    </tr>\n",
       "    <tr>\n",
       "      <th>store_id</th>\n",
       "      <th></th>\n",
       "      <th></th>\n",
       "    </tr>\n",
       "  </thead>\n",
       "  <tbody>\n",
       "    <tr>\n",
       "      <th>5</th>\n",
       "      <td>162412.00</td>\n",
       "      <td>1502</td>\n",
       "    </tr>\n",
       "    <tr>\n",
       "      <th>11</th>\n",
       "      <td>64014.53</td>\n",
       "      <td>627</td>\n",
       "    </tr>\n",
       "    <tr>\n",
       "      <th>25</th>\n",
       "      <td>80093.23</td>\n",
       "      <td>706</td>\n",
       "    </tr>\n",
       "    <tr>\n",
       "      <th>28</th>\n",
       "      <td>122991.82</td>\n",
       "      <td>1224</td>\n",
       "    </tr>\n",
       "    <tr>\n",
       "      <th>33</th>\n",
       "      <td>111246.31</td>\n",
       "      <td>1125</td>\n",
       "    </tr>\n",
       "    <tr>\n",
       "      <th>34</th>\n",
       "      <td>101609.91</td>\n",
       "      <td>945</td>\n",
       "    </tr>\n",
       "  </tbody>\n",
       "</table>\n",
       "</div>"
      ],
      "text/plain": [
       "          sum_sales  count_sales\n",
       "store_id                        \n",
       "5         162412.00         1502\n",
       "11         64014.53          627\n",
       "25         80093.23          706\n",
       "28        122991.82         1224\n",
       "33        111246.31         1125\n",
       "34        101609.91          945"
      ]
     },
     "execution_count": 404,
     "metadata": {},
     "output_type": "execute_result"
    }
   ],
   "source": [
    "sales_items = df_valid_copy.loc[df_valid_copy['quantity'] == 1]\n",
    "sales_by_store = sales_items.groupby('store_id').agg(['sum', 'count'])['line_total']\n",
    "sales_by_store = sales_by_store.rename({'sum': 'sum_sales', 'count': 'count_sales'}, axis='columns')\n",
    "sales_by_store"
   ]
  },
  {
   "cell_type": "markdown",
   "id": "e2f8a054",
   "metadata": {},
   "source": [
    "#### Returns by stores\n",
    "In the case of returns the store_id has no importance because the return should be accounted to the store where the item was initially sold. So, a new column is to be created with the parent_store."
   ]
  },
  {
   "cell_type": "code",
   "execution_count": 395,
   "id": "94c43d41",
   "metadata": {},
   "outputs": [],
   "source": [
    "# select only returns\n",
    "return_items = df_valid_copy.loc[df_valid_copy['quantity'] == -1]\n",
    "\n",
    "# find store_id for each parent_line_id\n",
    "parent_store_ids = []\n",
    "for index, row in return_items.iterrows():\n",
    "    parent_store_id = df_valid_copy.loc[df_valid_copy['line_id'] == row['parent_line_id']]\n",
    "    parent_store_ids.append(int(parent_store_id.store_id))\n",
    "\n",
    "# save results in a new dataframe\n",
    "return_items_copy = return_items.copy()\n",
    "return_items_copy['parent_store_id'] = parent_store_ids\n",
    "# return_items_copy\n"
   ]
  },
  {
   "cell_type": "code",
   "execution_count": 403,
   "id": "18253e6a",
   "metadata": {},
   "outputs": [
    {
     "data": {
      "text/html": [
       "<div>\n",
       "<style scoped>\n",
       "    .dataframe tbody tr th:only-of-type {\n",
       "        vertical-align: middle;\n",
       "    }\n",
       "\n",
       "    .dataframe tbody tr th {\n",
       "        vertical-align: top;\n",
       "    }\n",
       "\n",
       "    .dataframe thead th {\n",
       "        text-align: right;\n",
       "    }\n",
       "</style>\n",
       "<table border=\"1\" class=\"dataframe\">\n",
       "  <thead>\n",
       "    <tr style=\"text-align: right;\">\n",
       "      <th></th>\n",
       "      <th>sum_returns</th>\n",
       "      <th>count_returns</th>\n",
       "    </tr>\n",
       "    <tr>\n",
       "      <th>parent_store_id</th>\n",
       "      <th></th>\n",
       "      <th></th>\n",
       "    </tr>\n",
       "  </thead>\n",
       "  <tbody>\n",
       "    <tr>\n",
       "      <th>5</th>\n",
       "      <td>-15762.59</td>\n",
       "      <td>146</td>\n",
       "    </tr>\n",
       "    <tr>\n",
       "      <th>11</th>\n",
       "      <td>-4835.82</td>\n",
       "      <td>46</td>\n",
       "    </tr>\n",
       "    <tr>\n",
       "      <th>25</th>\n",
       "      <td>-8596.21</td>\n",
       "      <td>71</td>\n",
       "    </tr>\n",
       "    <tr>\n",
       "      <th>28</th>\n",
       "      <td>-10879.98</td>\n",
       "      <td>102</td>\n",
       "    </tr>\n",
       "    <tr>\n",
       "      <th>33</th>\n",
       "      <td>-8840.11</td>\n",
       "      <td>96</td>\n",
       "    </tr>\n",
       "    <tr>\n",
       "      <th>34</th>\n",
       "      <td>-12553.11</td>\n",
       "      <td>102</td>\n",
       "    </tr>\n",
       "  </tbody>\n",
       "</table>\n",
       "</div>"
      ],
      "text/plain": [
       "                 sum_returns  count_returns\n",
       "parent_store_id                            \n",
       "5                  -15762.59            146\n",
       "11                  -4835.82             46\n",
       "25                  -8596.21             71\n",
       "28                 -10879.98            102\n",
       "33                  -8840.11             96\n",
       "34                 -12553.11            102"
      ]
     },
     "execution_count": 403,
     "metadata": {},
     "output_type": "execute_result"
    }
   ],
   "source": [
    "returns_by_store = return_items_copy.groupby('parent_store_id').agg(['sum', 'count'])['line_total']\n",
    "returns_by_store = returns_by_store.rename({'sum': 'sum_returns', 'count': 'count_returns'}, axis='columns')\n",
    "returns_by_store"
   ]
  },
  {
   "cell_type": "code",
   "execution_count": 414,
   "id": "292860a9",
   "metadata": {},
   "outputs": [
    {
     "data": {
      "text/html": [
       "<div>\n",
       "<style scoped>\n",
       "    .dataframe tbody tr th:only-of-type {\n",
       "        vertical-align: middle;\n",
       "    }\n",
       "\n",
       "    .dataframe tbody tr th {\n",
       "        vertical-align: top;\n",
       "    }\n",
       "\n",
       "    .dataframe thead th {\n",
       "        text-align: right;\n",
       "    }\n",
       "</style>\n",
       "<table border=\"1\" class=\"dataframe\">\n",
       "  <thead>\n",
       "    <tr style=\"text-align: right;\">\n",
       "      <th></th>\n",
       "      <th>sum_sales</th>\n",
       "      <th>count_sales</th>\n",
       "      <th>sum_returns</th>\n",
       "      <th>count_returns</th>\n",
       "    </tr>\n",
       "    <tr>\n",
       "      <th>store_id</th>\n",
       "      <th></th>\n",
       "      <th></th>\n",
       "      <th></th>\n",
       "      <th></th>\n",
       "    </tr>\n",
       "  </thead>\n",
       "  <tbody>\n",
       "    <tr>\n",
       "      <th>5</th>\n",
       "      <td>162412.00</td>\n",
       "      <td>1502</td>\n",
       "      <td>-15762.59</td>\n",
       "      <td>146</td>\n",
       "    </tr>\n",
       "    <tr>\n",
       "      <th>11</th>\n",
       "      <td>64014.53</td>\n",
       "      <td>627</td>\n",
       "      <td>-4835.82</td>\n",
       "      <td>46</td>\n",
       "    </tr>\n",
       "    <tr>\n",
       "      <th>25</th>\n",
       "      <td>80093.23</td>\n",
       "      <td>706</td>\n",
       "      <td>-8596.21</td>\n",
       "      <td>71</td>\n",
       "    </tr>\n",
       "    <tr>\n",
       "      <th>28</th>\n",
       "      <td>122991.82</td>\n",
       "      <td>1224</td>\n",
       "      <td>-10879.98</td>\n",
       "      <td>102</td>\n",
       "    </tr>\n",
       "    <tr>\n",
       "      <th>33</th>\n",
       "      <td>111246.31</td>\n",
       "      <td>1125</td>\n",
       "      <td>-8840.11</td>\n",
       "      <td>96</td>\n",
       "    </tr>\n",
       "    <tr>\n",
       "      <th>34</th>\n",
       "      <td>101609.91</td>\n",
       "      <td>945</td>\n",
       "      <td>-12553.11</td>\n",
       "      <td>102</td>\n",
       "    </tr>\n",
       "  </tbody>\n",
       "</table>\n",
       "</div>"
      ],
      "text/plain": [
       "          sum_sales  count_sales  sum_returns  count_returns\n",
       "store_id                                                    \n",
       "5         162412.00         1502    -15762.59            146\n",
       "11         64014.53          627     -4835.82             46\n",
       "25         80093.23          706     -8596.21             71\n",
       "28        122991.82         1224    -10879.98            102\n",
       "33        111246.31         1125     -8840.11             96\n",
       "34        101609.91          945    -12553.11            102"
      ]
     },
     "execution_count": 414,
     "metadata": {},
     "output_type": "execute_result"
    }
   ],
   "source": [
    "concat = pd.concat([sales_by_store, returns_by_store], axis = 1)\n",
    "concat = concat.rename({'sum': 'X', 'count': 'Y'}, axis='columns')\n",
    "concat.index.names = ['store_id']\n",
    "concat"
   ]
  },
  {
   "cell_type": "code",
   "execution_count": 421,
   "id": "efe72cb4",
   "metadata": {},
   "outputs": [
    {
     "data": {
      "text/html": [
       "<div>\n",
       "<style scoped>\n",
       "    .dataframe tbody tr th:only-of-type {\n",
       "        vertical-align: middle;\n",
       "    }\n",
       "\n",
       "    .dataframe tbody tr th {\n",
       "        vertical-align: top;\n",
       "    }\n",
       "\n",
       "    .dataframe thead th {\n",
       "        text-align: right;\n",
       "    }\n",
       "</style>\n",
       "<table border=\"1\" class=\"dataframe\">\n",
       "  <thead>\n",
       "    <tr style=\"text-align: right;\">\n",
       "      <th></th>\n",
       "      <th>sum_sales</th>\n",
       "      <th>count_sales</th>\n",
       "      <th>sum_returns</th>\n",
       "      <th>count_returns</th>\n",
       "      <th>return_rate</th>\n",
       "    </tr>\n",
       "    <tr>\n",
       "      <th>store_id</th>\n",
       "      <th></th>\n",
       "      <th></th>\n",
       "      <th></th>\n",
       "      <th></th>\n",
       "      <th></th>\n",
       "    </tr>\n",
       "  </thead>\n",
       "  <tbody>\n",
       "    <tr>\n",
       "      <th>5</th>\n",
       "      <td>162412.00</td>\n",
       "      <td>1502</td>\n",
       "      <td>-15762.59</td>\n",
       "      <td>146</td>\n",
       "      <td>9.720373</td>\n",
       "    </tr>\n",
       "    <tr>\n",
       "      <th>11</th>\n",
       "      <td>64014.53</td>\n",
       "      <td>627</td>\n",
       "      <td>-4835.82</td>\n",
       "      <td>46</td>\n",
       "      <td>7.336523</td>\n",
       "    </tr>\n",
       "    <tr>\n",
       "      <th>25</th>\n",
       "      <td>80093.23</td>\n",
       "      <td>706</td>\n",
       "      <td>-8596.21</td>\n",
       "      <td>71</td>\n",
       "      <td>10.056657</td>\n",
       "    </tr>\n",
       "    <tr>\n",
       "      <th>28</th>\n",
       "      <td>122991.82</td>\n",
       "      <td>1224</td>\n",
       "      <td>-10879.98</td>\n",
       "      <td>102</td>\n",
       "      <td>8.333333</td>\n",
       "    </tr>\n",
       "    <tr>\n",
       "      <th>33</th>\n",
       "      <td>111246.31</td>\n",
       "      <td>1125</td>\n",
       "      <td>-8840.11</td>\n",
       "      <td>96</td>\n",
       "      <td>8.533333</td>\n",
       "    </tr>\n",
       "    <tr>\n",
       "      <th>34</th>\n",
       "      <td>101609.91</td>\n",
       "      <td>945</td>\n",
       "      <td>-12553.11</td>\n",
       "      <td>102</td>\n",
       "      <td>10.793651</td>\n",
       "    </tr>\n",
       "  </tbody>\n",
       "</table>\n",
       "</div>"
      ],
      "text/plain": [
       "          sum_sales  count_sales  sum_returns  count_returns  return_rate\n",
       "store_id                                                                 \n",
       "5         162412.00         1502    -15762.59            146     9.720373\n",
       "11         64014.53          627     -4835.82             46     7.336523\n",
       "25         80093.23          706     -8596.21             71    10.056657\n",
       "28        122991.82         1224    -10879.98            102     8.333333\n",
       "33        111246.31         1125     -8840.11             96     8.533333\n",
       "34        101609.91          945    -12553.11            102    10.793651"
      ]
     },
     "execution_count": 421,
     "metadata": {},
     "output_type": "execute_result"
    }
   ],
   "source": [
    "concat[\"return_rate\"] = concat.count_returns / concat.count_sales * 100\n",
    "concat"
   ]
  },
  {
   "cell_type": "code",
   "execution_count": null,
   "id": "2f09dfbd",
   "metadata": {},
   "outputs": [],
   "source": []
  }
 ],
 "metadata": {
  "kernelspec": {
   "display_name": "Python 3 (ipykernel)",
   "language": "python",
   "name": "python3"
  },
  "language_info": {
   "codemirror_mode": {
    "name": "ipython",
    "version": 3
   },
   "file_extension": ".py",
   "mimetype": "text/x-python",
   "name": "python",
   "nbconvert_exporter": "python",
   "pygments_lexer": "ipython3",
   "version": "3.9.12"
  }
 },
 "nbformat": 4,
 "nbformat_minor": 5
}
